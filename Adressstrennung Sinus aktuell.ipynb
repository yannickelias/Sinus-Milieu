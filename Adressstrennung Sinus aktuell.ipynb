{
 "cells": [
  {
   "cell_type": "code",
   "execution_count": 1,
   "metadata": {},
   "outputs": [],
   "source": [
    "import geopandas as gpd\n",
    "import pandas as pd\n",
    "from shapely.geometry import Point\n",
    "import re"
   ]
  },
  {
   "cell_type": "markdown",
   "metadata": {},
   "source": [
    "Sortierung und Anpassung der Adressbezeichnungen für ein mögliches Verbinden der Daten:"
   ]
  },
  {
   "cell_type": "code",
   "execution_count": null,
   "metadata": {},
   "outputs": [
    {
     "name": "stdout",
     "output_type": "stream",
     "text": [
      "Adressen erfolgreich gesplittet und neue Shape-Datei erstellt.\n"
     ]
    }
   ],
   "source": [
    "#Trennung der unterschiedlichen Straßen in einem Feature, getrennt durch ein Simikolon:\n",
    "\n",
    "# Eingabe- und Ausgabepfade\n",
    "input_shapefile = \n",
    "output_shapefile = \n",
    "\n",
    "# Shape-Datei einlesen\n",
    "gdf = gpd.read_file(input_shapefile)\n",
    "\n",
    "# Überprüfen, ob die Spalte \"LAGEBEZTXT\" existiert\n",
    "if \"LAGEBEZTXT\" not in gdf.columns:\n",
    "    raise ValueError(\"Die Spalte 'LAGEBEZTXT' ist in der Eingabedatei nicht vorhanden.\")\n",
    "\n",
    "# Liste für die neuen Datenzeilen\n",
    "new_rows = []\n",
    "\n",
    "# Iteriere durch die Geodaten\n",
    "for _, row in gdf.iterrows():\n",
    "    lagebez = row[\"LAGEBEZTXT\"]  # Adressspalte\n",
    "    geometry = row.geometry  # Geometrie\n",
    "    other_columns = row.drop([\"LAGEBEZTXT\", \"geometry\"])  # Restliche Spalten\n",
    "\n",
    "    if lagebez:\n",
    "        # Adressen durch \";\" trennen und bereinigen\n",
    "        addresses = [addr.strip() for addr in lagebez.split(\";\") if addr.strip()]\n",
    "\n",
    "        for address in addresses:\n",
    "            if \" \" in address:\n",
    "                # Trenne Straße und Hausnummern\n",
    "                street, house_numbers = address.rsplit(\" \", 1)\n",
    "\n",
    "                # Hausnummern durch \",\" trennen und bereinigen\n",
    "                house_numbers_list = [hn.strip() for hn in house_numbers.split(\",\") if hn.strip()]\n",
    "\n",
    "                for house_number in house_numbers_list:\n",
    "                    # Kombiniere Straße mit einzelner Hausnummer\n",
    "                    new_address = f\"{street} {house_number}\"\n",
    "                    new_row = other_columns.to_dict()\n",
    "                    new_row[\"LAGEBEZTXT\"] = new_address\n",
    "                    new_row[\"geometry\"] = geometry\n",
    "                    new_rows.append(new_row)\n",
    "            else:\n",
    "                # Adresse ohne Hausnummer übernehmen\n",
    "                new_row = other_columns.to_dict()\n",
    "                new_row[\"LAGEBEZTXT\"] = address\n",
    "                new_row[\"geometry\"] = geometry\n",
    "                new_rows.append(new_row)\n",
    "\n",
    "# Neues GeoDataFrame erstellen\n",
    "new_gdf = gpd.GeoDataFrame(new_rows, geometry=\"geometry\", crs=gdf.crs)\n",
    "\n",
    "# Neue Shape-Datei speichern\n",
    "new_gdf.to_file(output_shapefile, driver=\"ESRI Shapefile\")\n",
    "\n",
    "print(\"Adressen erfolgreich gesplittet und neue Shape-Datei erstellt.\")\n"
   ]
  },
  {
   "cell_type": "code",
   "execution_count": null,
   "metadata": {},
   "outputs": [
    {
     "name": "stdout",
     "output_type": "stream",
     "text": [
      "Die Shape-Datei wurde erfolgreich angepasst und gespeichert.\n"
     ]
    }
   ],
   "source": [
    "#Trennung am Komma und erneutes Zusammenfügen der Adressen mit multiplen Hausnummern für das gleiche Gebäude:\n",
    "\n",
    "# Eingabe- und Ausgabepfade\n",
    "input_shapefile = \n",
    "output_shapefile = \n",
    "# Shape-Datei einlesen\n",
    "gdf = gpd.read_file(input_shapefile)\n",
    "\n",
    "if \"LAGEBEZTXT\" not in gdf.columns:\n",
    "    raise ValueError(\"Die Spalte 'LAGEBEZTXT' ist in der Eingabedatei nicht vorhanden.\")\n",
    "\n",
    "# Liste für die neuen Datenzeilen\n",
    "new_rows = []\n",
    "\n",
    "# Iteriere durch die Zeilen der Shape-Datei\n",
    "for _, row in gdf.iterrows():\n",
    "    lagebez = row[\"LAGEBEZTXT\"]\n",
    "    geometry = row.geometry\n",
    "    other_columns = row.drop([\"LAGEBEZTXT\", \"geometry\"])\n",
    "\n",
    "    if lagebez:\n",
    "        # Adressentrennung mithilfe von isdigit()\n",
    "        split_index = None\n",
    "        for i, char in enumerate(lagebez):\n",
    "            if char.isdigit():  # Prüfe, ob das Zeichen eine Ziffer ist\n",
    "                split_index = i\n",
    "                break\n",
    "\n",
    "        # Trenne die Basisadresse (Straßenname) und die Hausnummern\n",
    "        if split_index is not None:\n",
    "            street = lagebez[:split_index].strip()  # Alles vor der ersten Ziffer\n",
    "            house_numbers = lagebez[split_index:].strip()  # Alles ab der ersten Ziffer\n",
    "        else:\n",
    "            # Wenn keine Ziffer gefunden wird\n",
    "            street = lagebez.strip()\n",
    "            house_numbers = \"\"\n",
    "\n",
    "        # Hausnummern durch ',' trennen\n",
    "        house_numbers_list = [hn.strip() for hn in house_numbers.split(\",\") if hn.strip()]\n",
    "\n",
    "        for house_number in house_numbers_list:\n",
    "            new_address = f\"{street} {house_number}\"\n",
    "            new_row = other_columns.to_dict()\n",
    "            new_row[\"LAGEBEZTXT\"] = new_address\n",
    "            new_row[\"geometry\"] = geometry\n",
    "            new_rows.append(new_row)\n",
    "\n",
    "# Neues GeoDataFrame erstellen\n",
    "new_gdf = gpd.GeoDataFrame(new_rows, geometry=\"geometry\", crs=gdf.crs)\n",
    "\n",
    "# Neue Shape-Datei speichern\n",
    "new_gdf.to_file(output_shapefile, driver=\"ESRI Shapefile\")\n",
    "\n",
    "print(\"Die Shape-Datei wurde erfolgreich angepasst und gespeichert.\")\n"
   ]
  },
  {
   "cell_type": "markdown",
   "metadata": {},
   "source": [
    "Aggregation der Sinusdaten auf Baublöcke nach dem dominanten Milieu"
   ]
  },
  {
   "cell_type": "markdown",
   "metadata": {},
   "source": [
    "Eingabedaten als Polygone:"
   ]
  },
  {
   "cell_type": "code",
   "execution_count": null,
   "metadata": {},
   "outputs": [
    {
     "name": "stdout",
     "output_type": "stream",
     "text": [
      "Shape-Dateien werden eingelesen...\n",
      "Mittelpunkte der Eingabepolygone werden berechnet...\n",
      "Räumliche Verknüpfung wird durchgeführt...\n",
      "Aggregation wird durchgeführt...\n",
      "Aggregierte Daten werden mit Zielpolygonen verknüpft...\n",
      "Ergebnis wird gespeichert unter: C:\\Users\\ygerling\\WWNW\\Geodaten\\SINUS2024\\Wohngeb_HB\\Ergebnis aggregation\\Wohngeb_HB_AdressUpdate_SinusJoin_aggregiert.shp\n"
     ]
    },
    {
     "name": "stderr",
     "output_type": "stream",
     "text": [
      "C:\\Users\\ygerling\\AppData\\Local\\Temp\\ipykernel_45392\\549919288.py:42: UserWarning: Column names longer than 10 characters will be truncated when saved to ESRI Shapefile.\n",
      "  aggregated_polygons.to_file(output_aggregated_path, driver=\"ESRI Shapefile\")\n"
     ]
    },
    {
     "name": "stdout",
     "output_type": "stream",
     "text": [
      "Aggregation abgeschlossen.\n"
     ]
    }
   ],
   "source": [
    "# Aggregieren der gebäudebezogenen SINUS-Daten bezüglich der Anzahl an Haushalten pro Milieu in einem Zielpolygon (Baublöcke oder Lambert-Raster)\n",
    "\n",
    "# Pfade zu den Dateien\n",
    "input_polygons_with_data_path =   # Eingabe-Polygone mit Haushalts- und Milieudaten\n",
    "target_polygons_path =   # Ziel-Polygone\n",
    "output_aggregated_path =   # Ausgabe-Shape-Datei\n",
    "\n",
    "# Feldnamen\n",
    "household_field = \"MB_HA_BA_A\"  # Anzahl der Haushalte\n",
    "milieu_field = \"MB_HA_SI_K\"  # Dominantes Milieu\n",
    "\n",
    "# Shape-Dateien einlesen\n",
    "print(\"Shape-Dateien werden eingelesen...\")\n",
    "input_polygons_with_data = gpd.read_file(input_polygons_with_data_path)\n",
    "target_polygons = gpd.read_file(target_polygons_path)\n",
    "\n",
    "# Berechne die Mittelpunkte der Eingabepolygone\n",
    "print(\"Mittelpunkte der Eingabepolygone werden berechnet...\")\n",
    "input_polygons_with_data[\"centroid\"] = input_polygons_with_data.geometry.centroid\n",
    "input_centroids = input_polygons_with_data.set_geometry(\"centroid\")\n",
    "\n",
    "# Räumliche Verknüpfung: Mittelpunkte mit Zielpolygonen verknüpfen\n",
    "print(\"Räumliche Verknüpfung wird durchgeführt...\")\n",
    "joined = gpd.sjoin(input_centroids, target_polygons, how=\"inner\", predicate=\"within\")\n",
    "\n",
    "# Aggregation: Haushalte pro dominantem Milieu und Polygon\n",
    "print(\"Aggregation wird durchgeführt...\")\n",
    "aggregation = (\n",
    "    joined.groupby([\"index_right\", milieu_field])[household_field]\n",
    "    .sum()\n",
    "    .reset_index()\n",
    "    .rename(columns={\"index_right\": \"Polygon_ID\", household_field: \"Total_Households\"})\n",
    ")\n",
    "\n",
    "# Aggregierte Daten mit den Zielpolygonen verknüpfen\n",
    "print(\"Aggregierte Daten werden mit Zielpolygonen verknüpft...\")\n",
    "target_polygons[\"Polygon_ID\"] = target_polygons.index  # ID-Feld hinzufügen\n",
    "aggregated_polygons = target_polygons.merge(aggregation, on=\"Polygon_ID\", how=\"left\")\n",
    "\n",
    "# Ergebnis speichern\n",
    "print(f\"Ergebnis wird gespeichert unter: {output_aggregated_path}\")\n",
    "aggregated_polygons.to_file(output_aggregated_path, driver=\"ESRI Shapefile\")\n",
    "\n",
    "print(\"Aggregation abgeschlossen.\")\n"
   ]
  },
  {
   "cell_type": "markdown",
   "metadata": {},
   "source": [
    "Eingabedaten als Punkte:"
   ]
  },
  {
   "cell_type": "code",
   "execution_count": null,
   "metadata": {},
   "outputs": [
    {
     "name": "stdout",
     "output_type": "stream",
     "text": [
      "Shape-Dateien werden eingelesen...\n",
      "Räumliche Verknüpfung wird durchgeführt...\n",
      "Aggregation wird durchgeführt...\n",
      "Aggregierte Daten werden mit Zielpolygonen verknüpft...\n",
      "Ergebnis wird gespeichert unter: C:\\Users\\ygerling\\WWNW\\Geodaten\\SINUS2024\\Ergebnisse 25\\AX_GeoreferenzierteGebaeudeadresse_Wohngeb_2025_BB_aggregiert.shp\n"
     ]
    },
    {
     "name": "stderr",
     "output_type": "stream",
     "text": [
      "C:\\Users\\ygerling\\AppData\\Local\\Temp\\ipykernel_28068\\1767452773.py:37: UserWarning: Column names longer than 10 characters will be truncated when saved to ESRI Shapefile.\n",
      "  aggregated_polygons.to_file(output_aggregated_path, driver=\"ESRI Shapefile\")\n"
     ]
    },
    {
     "name": "stdout",
     "output_type": "stream",
     "text": [
      "Aggregation abgeschlossen.\n"
     ]
    }
   ],
   "source": [
    "# Aggregieren der punktbezogenen SINUS-Daten bezüglich der Anzahl an Haushalten pro Milieu in einem Zielpolygon (Baublöcke oder Lambert-Raster)\n",
    "\n",
    "# Pfade zu den Dateien\n",
    "input_points_with_data_path =   # Eingabe-Punkte mit Haushalts- und Milieudaten\n",
    "target_polygons_path =   # Ziel-Polygone\n",
    "output_aggregated_path =   # Ausgabe-Shape-Datei\n",
    "\n",
    "# Feldnamen\n",
    "household_field = \"MB_HA_BA_A\"  # Anzahl der Haushalte\n",
    "milieu_field = \"MB_HA_SI_K\"  # Dominantes Milieu\n",
    "\n",
    "# Shape-Dateien einlesen\n",
    "print(\"Shape-Dateien werden eingelesen...\")\n",
    "input_points_with_data = gpd.read_file(input_points_with_data_path)\n",
    "target_polygons = gpd.read_file(target_polygons_path)\n",
    "\n",
    "# Räumliche Verknüpfung: Punkte mit Zielpolygonen verknüpfen\n",
    "print(\"Räumliche Verknüpfung wird durchgeführt...\")\n",
    "joined = gpd.sjoin(input_points_with_data, target_polygons, how=\"inner\", predicate=\"within\")\n",
    "\n",
    "# Aggregation: Haushalte pro dominantem Milieu und Polygon\n",
    "print(\"Aggregation wird durchgeführt...\")\n",
    "aggregation = (\n",
    "    joined.groupby([\"index_right\", milieu_field])[household_field]\n",
    "    .sum()\n",
    "    .reset_index()\n",
    "    .rename(columns={\"index_right\": \"Polygon_ID\", household_field: \"Total_Households\"})\n",
    ")\n",
    "\n",
    "# Aggregierte Daten mit den Zielpolygonen verknüpfen\n",
    "print(\"Aggregierte Daten werden mit Zielpolygonen verknüpft...\")\n",
    "target_polygons[\"Polygon_ID\"] = target_polygons.index  # ID-Feld hinzufügen\n",
    "aggregated_polygons = target_polygons.merge(aggregation, on=\"Polygon_ID\", how=\"left\")\n",
    "\n",
    "# Ergebnis speichern\n",
    "print(f\"Ergebnis wird gespeichert unter: {output_aggregated_path}\")\n",
    "aggregated_polygons.to_file(output_aggregated_path, driver=\"ESRI Shapefile\")\n",
    "\n",
    "print(\"Aggregation abgeschlossen.\")\n"
   ]
  },
  {
   "cell_type": "markdown",
   "metadata": {},
   "source": [
    "Zusammenfassung der Baublöcke unter der Baublock ID:"
   ]
  },
  {
   "cell_type": "code",
   "execution_count": null,
   "metadata": {},
   "outputs": [
    {
     "name": "stderr",
     "output_type": "stream",
     "text": [
      "c:\\Users\\ygerling\\anaconda3\\Lib\\site-packages\\geopandas\\geodataframe.py:1543: SettingWithCopyWarning: \n",
      "A value is trying to be set on a copy of a slice from a DataFrame.\n",
      "Try using .loc[row_indexer,col_indexer] = value instead\n",
      "\n",
      "See the caveats in the documentation: https://pandas.pydata.org/pandas-docs/stable/user_guide/indexing.html#returning-a-view-versus-a-copy\n",
      "  super().__setitem__(key, value)\n",
      "C:\\Users\\ygerling\\AppData\\Local\\Temp\\ipykernel_28068\\243809689.py:32: UserWarning: Column names longer than 10 characters will be truncated when saved to ESRI Shapefile.\n",
      "  df_agg_gdf.to_file(output_file, driver='ESRI Shapefile')\n"
     ]
    },
    {
     "name": "stdout",
     "output_type": "stream",
     "text": [
      "      BB_Nr MB_HA_SI_K Total_Hous  \\\n",
      "0  111001.0       None        0.0   \n",
      "1  111002.0       None        0.0   \n",
      "2  111003.0       None        0.0   \n",
      "3  111004.0     04_EPE        2.0   \n",
      "4  111005.0       None        0.0   \n",
      "\n",
      "                                            geometry Dominant_Milieu  \n",
      "0  POLYGON ((485993.727 5881383.175, 486002.187 5...            None  \n",
      "1  POLYGON ((486350.774 5881495.173, 486345.437 5...            None  \n",
      "2  POLYGON ((486547.822 5881501.250, 486559.001 5...            None  \n",
      "3  POLYGON ((486933.524 5881216.109, 486948.888 5...          04_EPE  \n",
      "4  POLYGON ((487352.494 5881058.773, 487339.400 5...            None  \n"
     ]
    }
   ],
   "source": [
    "# Definieren des dominanten Milieus pro Zielpolygon\n",
    "\n",
    "# Shape-Datei einlesen (ersetze 'datei.shp' durch den tatsächlichen Pfad)\n",
    "file_path = \n",
    "gdf = gpd.read_file(file_path)\n",
    "\n",
    "gdf = gpd.read_file(file_path)\n",
    "\n",
    "# Relevante Spalten auswählen\n",
    "df = gdf[['BB_Nr', 'MB_HA_SI_K', 'Total_Hous', 'geometry']]\n",
    "\n",
    "# Sicherstellen, dass 'Total_Hous' numerisch ist\n",
    "df['Total_Hous'] = pd.to_numeric(df['Total_Hous'], errors='coerce').fillna(0)\n",
    "\n",
    "# Dominantes Milieu für jeden Baublock bestimmen\n",
    "df_dominant = df.loc[df.groupby('BB_Nr')['Total_Hous'].idxmax(), ['BB_Nr', 'MB_HA_SI_K']]\n",
    "df_dominant = df_dominant.rename(columns={'MB_HA_SI_K': 'Dominant_Milieu'})\n",
    "\n",
    "# Aggregation der Daten nach Baublock-ID\n",
    "df_agg = df.groupby('BB_Nr').agg({\n",
    "    'MB_HA_SI_K': lambda x: ', '.join(x.astype(str)),  # Alle Milieus in einer Zeile zusammenfassen\n",
    "    'Total_Hous': lambda x: ', '.join(x.astype(str)),  # Haushaltszahlen entsprechend auflisten\n",
    "    'geometry': 'first'  # Eine Geometrie für den Baublock übernehmen\n",
    "}).reset_index()\n",
    "\n",
    "# Das dominante Milieu hinzufügen\n",
    "df_agg = df_agg.merge(df_dominant, on='BB_Nr', how='left')\n",
    "\n",
    "# In eine neue Shape-Datei speichern\n",
    "output_file = \n",
    "df_agg_gdf = gpd.GeoDataFrame(df_agg, geometry='geometry')\n",
    "df_agg_gdf.to_file(output_file, driver='ESRI Shapefile')\n",
    "\n",
    "# Ergebnis ausgeben (ersten 5 Zeilen)\n",
    "print(df_agg.head())\n",
    "\n"
   ]
  }
 ],
 "metadata": {
  "kernelspec": {
   "display_name": "base",
   "language": "python",
   "name": "python3"
  },
  "language_info": {
   "codemirror_mode": {
    "name": "ipython",
    "version": 3
   },
   "file_extension": ".py",
   "mimetype": "text/x-python",
   "name": "python",
   "nbconvert_exporter": "python",
   "pygments_lexer": "ipython3",
   "version": "3.12.4"
  }
 },
 "nbformat": 4,
 "nbformat_minor": 2
}
